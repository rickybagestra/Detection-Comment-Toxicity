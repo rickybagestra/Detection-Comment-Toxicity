{
 "cells": [
  {
   "cell_type": "markdown",
   "metadata": {},
   "source": [
    "# 0. Install Dependencies and Bring in Data"
   ]
  },
  {
   "cell_type": "code",
   "execution_count": 1,
   "metadata": {
    "tags": []
   },
   "outputs": [],
   "source": [
    "import os\n",
    "import pandas as pd\n",
    "import tensorflow as tf\n",
    "import numpy as np"
   ]
  },
  {
   "cell_type": "code",
   "execution_count": 2,
   "metadata": {},
   "outputs": [
    {
     "name": "stdout",
     "output_type": "stream",
     "text": [
      "[PhysicalDevice(name='/physical_device:GPU:0', device_type='GPU')]\n"
     ]
    }
   ],
   "source": [
    "import tensorflow as tf\n",
    "print(tf.config.list_physical_devices('GPU'))"
   ]
  },
  {
   "cell_type": "code",
   "execution_count": 3,
   "metadata": {
    "tags": []
   },
   "outputs": [],
   "source": [
    "df = pd.read_csv(os.path.join('preprocessed_indonesian_toxic_tweet.csv'))"
   ]
  },
  {
   "cell_type": "code",
   "execution_count": 4,
   "metadata": {
    "tags": []
   },
   "outputs": [
    {
     "data": {
      "text/html": [
       "<div>\n",
       "<style scoped>\n",
       "    .dataframe tbody tr th:only-of-type {\n",
       "        vertical-align: middle;\n",
       "    }\n",
       "\n",
       "    .dataframe tbody tr th {\n",
       "        vertical-align: top;\n",
       "    }\n",
       "\n",
       "    .dataframe thead th {\n",
       "        text-align: right;\n",
       "    }\n",
       "</style>\n",
       "<table border=\"1\" class=\"dataframe\">\n",
       "  <thead>\n",
       "    <tr style=\"text-align: right;\">\n",
       "      <th></th>\n",
       "      <th>Tweet</th>\n",
       "      <th>HS</th>\n",
       "      <th>Abusive</th>\n",
       "      <th>HS_Individual</th>\n",
       "      <th>HS_Group</th>\n",
       "      <th>HS_Religion</th>\n",
       "      <th>HS_Race</th>\n",
       "      <th>HS_Physical</th>\n",
       "      <th>HS_Gender</th>\n",
       "      <th>HS_Other</th>\n",
       "      <th>HS_Weak</th>\n",
       "      <th>HS_Moderate</th>\n",
       "      <th>HS_Strong</th>\n",
       "    </tr>\n",
       "  </thead>\n",
       "  <tbody>\n",
       "    <tr>\n",
       "      <th>0</th>\n",
       "      <td>di saat semua cowok berusaha melacak perhatia...</td>\n",
       "      <td>1</td>\n",
       "      <td>1</td>\n",
       "      <td>1</td>\n",
       "      <td>0</td>\n",
       "      <td>0</td>\n",
       "      <td>0</td>\n",
       "      <td>0</td>\n",
       "      <td>0</td>\n",
       "      <td>1</td>\n",
       "      <td>1</td>\n",
       "      <td>0</td>\n",
       "      <td>0</td>\n",
       "    </tr>\n",
       "    <tr>\n",
       "      <th>1</th>\n",
       "      <td>siapa yang telat memberi tau kamu edan sarap ...</td>\n",
       "      <td>0</td>\n",
       "      <td>1</td>\n",
       "      <td>0</td>\n",
       "      <td>0</td>\n",
       "      <td>0</td>\n",
       "      <td>0</td>\n",
       "      <td>0</td>\n",
       "      <td>0</td>\n",
       "      <td>0</td>\n",
       "      <td>0</td>\n",
       "      <td>0</td>\n",
       "      <td>0</td>\n",
       "    </tr>\n",
       "    <tr>\n",
       "      <th>2</th>\n",
       "      <td>41 kadang aku berpikir kenapa aku tetap percay...</td>\n",
       "      <td>0</td>\n",
       "      <td>0</td>\n",
       "      <td>0</td>\n",
       "      <td>0</td>\n",
       "      <td>0</td>\n",
       "      <td>0</td>\n",
       "      <td>0</td>\n",
       "      <td>0</td>\n",
       "      <td>0</td>\n",
       "      <td>0</td>\n",
       "      <td>0</td>\n",
       "      <td>0</td>\n",
       "    </tr>\n",
       "    <tr>\n",
       "      <th>3</th>\n",
       "      <td>aku itu aku dan ku tau matamu sipit tapi dili...</td>\n",
       "      <td>0</td>\n",
       "      <td>0</td>\n",
       "      <td>0</td>\n",
       "      <td>0</td>\n",
       "      <td>0</td>\n",
       "      <td>0</td>\n",
       "      <td>0</td>\n",
       "      <td>0</td>\n",
       "      <td>0</td>\n",
       "      <td>0</td>\n",
       "      <td>0</td>\n",
       "      <td>0</td>\n",
       "    </tr>\n",
       "    <tr>\n",
       "      <th>4</th>\n",
       "      <td>kaum cebong kafir sudah kelihatan dongoknya d...</td>\n",
       "      <td>1</td>\n",
       "      <td>1</td>\n",
       "      <td>0</td>\n",
       "      <td>1</td>\n",
       "      <td>1</td>\n",
       "      <td>0</td>\n",
       "      <td>0</td>\n",
       "      <td>0</td>\n",
       "      <td>0</td>\n",
       "      <td>0</td>\n",
       "      <td>1</td>\n",
       "      <td>0</td>\n",
       "    </tr>\n",
       "  </tbody>\n",
       "</table>\n",
       "</div>"
      ],
      "text/plain": [
       "                                               Tweet  HS  Abusive   \n",
       "0   di saat semua cowok berusaha melacak perhatia...   1        1  \\\n",
       "1   siapa yang telat memberi tau kamu edan sarap ...   0        1   \n",
       "2  41 kadang aku berpikir kenapa aku tetap percay...   0        0   \n",
       "3   aku itu aku dan ku tau matamu sipit tapi dili...   0        0   \n",
       "4   kaum cebong kafir sudah kelihatan dongoknya d...   1        1   \n",
       "\n",
       "   HS_Individual  HS_Group  HS_Religion  HS_Race  HS_Physical  HS_Gender   \n",
       "0              1         0            0        0            0          0  \\\n",
       "1              0         0            0        0            0          0   \n",
       "2              0         0            0        0            0          0   \n",
       "3              0         0            0        0            0          0   \n",
       "4              0         1            1        0            0          0   \n",
       "\n",
       "   HS_Other  HS_Weak  HS_Moderate  HS_Strong  \n",
       "0         1        1            0          0  \n",
       "1         0        0            0          0  \n",
       "2         0        0            0          0  \n",
       "3         0        0            0          0  \n",
       "4         0        0            1          0  "
      ]
     },
     "execution_count": 4,
     "metadata": {},
     "output_type": "execute_result"
    }
   ],
   "source": [
    "df.head()"
   ]
  },
  {
   "cell_type": "code",
   "execution_count": 5,
   "metadata": {},
   "outputs": [
    {
     "data": {
      "text/plain": [
       "(13169, 13)"
      ]
     },
     "execution_count": 5,
     "metadata": {},
     "output_type": "execute_result"
    }
   ],
   "source": [
    "df.shape"
   ]
  },
  {
   "cell_type": "markdown",
   "metadata": {},
   "source": [
    "# 1. Preprocess"
   ]
  },
  {
   "cell_type": "code",
   "execution_count": 6,
   "metadata": {
    "jupyter": {
     "outputs_hidden": true
    },
    "tags": []
   },
   "outputs": [
    {
     "name": "stdout",
     "output_type": "stream",
     "text": [
      "Package                       Version\n",
      "----------------------------- -----------\n",
      "absl-py                       1.4.0\n",
      "aiofiles                      23.1.0\n",
      "aiohttp                       3.8.4\n",
      "aiosignal                     1.3.1\n",
      "altair                        5.0.0\n",
      "anyio                         3.6.2\n",
      "argon2-cffi                   21.3.0\n",
      "argon2-cffi-bindings          21.2.0\n",
      "asttokens                     2.2.1\n",
      "astunparse                    1.6.3\n",
      "async-timeout                 4.0.2\n",
      "attrs                         23.1.0\n",
      "backcall                      0.2.0\n",
      "backports.functools-lru-cache 1.6.4\n",
      "beautifulsoup4                4.12.2\n",
      "bleach                        6.0.0\n",
      "blinker                       1.6.2\n",
      "cachetools                    5.3.0\n",
      "certifi                       2023.5.7\n",
      "cffi                          1.15.1\n",
      "charset-normalizer            3.1.0\n",
      "click                         8.1.3\n",
      "colorama                      0.4.6\n",
      "comm                          0.1.3\n",
      "contourpy                     1.0.7\n",
      "cycler                        0.11.0\n",
      "debugpy                       1.6.7\n",
      "decorator                     5.1.1\n",
      "defusedxml                    0.7.1\n",
      "entrypoints                   0.4\n",
      "executing                     1.2.0\n",
      "fastapi                       0.95.2\n",
      "fastjsonschema                2.16.3\n",
      "ffmpy                         0.3.0\n",
      "filelock                      3.12.0\n",
      "Flask                         2.3.2\n",
      "flatbuffers                   2.0.7\n",
      "flit_core                     3.9.0\n",
      "fonttools                     4.39.4\n",
      "frozenlist                    1.3.3\n",
      "fsspec                        2023.5.0\n",
      "gast                          0.4.0\n",
      "google-auth                   2.18.1\n",
      "google-auth-oauthlib          0.4.6\n",
      "google-pasta                  0.2.0\n",
      "gradio                        3.32.0\n",
      "gradio_client                 0.2.5\n",
      "grpcio                        1.54.2\n",
      "h11                           0.14.0\n",
      "h5py                          3.8.0\n",
      "httpcore                      0.17.2\n",
      "httpx                         0.24.1\n",
      "huggingface-hub               0.14.1\n",
      "idna                          3.4\n",
      "importlib-metadata            6.6.0\n",
      "importlib-resources           5.12.0\n",
      "ipykernel                     6.23.1\n",
      "ipython                       8.4.0\n",
      "ipython-genutils              0.2.0\n",
      "ipywidgets                    8.0.6\n",
      "itsdangerous                  2.1.2\n",
      "jedi                          0.18.2\n",
      "Jinja2                        3.1.2\n",
      "joblib                        1.2.0\n",
      "jsonschema                    4.17.3\n",
      "jupyter                       1.0.0\n",
      "jupyter_client                8.2.0\n",
      "jupyter-console               6.6.3\n",
      "jupyter_core                  5.3.0\n",
      "jupyter-events                0.6.3\n",
      "jupyter_server                2.5.0\n",
      "jupyter_server_terminals      0.4.4\n",
      "jupyterlab-pygments           0.2.2\n",
      "jupyterlab-widgets            3.0.7\n",
      "keras                         2.7.0\n",
      "Keras-Preprocessing           1.1.2\n",
      "kiwisolver                    1.4.4\n",
      "libclang                      16.0.0\n",
      "linkify-it-py                 2.0.2\n",
      "Markdown                      3.4.3\n",
      "markdown-it-py                2.2.0\n",
      "MarkupSafe                    2.1.2\n",
      "matplotlib                    3.7.1\n",
      "matplotlib-inline             0.1.6\n",
      "mdit-py-plugins               0.3.3\n",
      "mdurl                         0.1.2\n",
      "mistune                       2.0.5\n",
      "multidict                     6.0.4\n",
      "nbclassic                     1.0.0\n",
      "nbclient                      0.7.4\n",
      "nbconvert                     7.4.0\n",
      "nbformat                      5.8.0\n",
      "nest-asyncio                  1.5.6\n",
      "notebook                      6.5.4\n",
      "notebook_shim                 0.2.3\n",
      "numpy                         1.24.3\n",
      "oauthlib                      3.2.2\n",
      "opt-einsum                    3.3.0\n",
      "orjson                        3.8.12\n",
      "packaging                     23.1\n",
      "pandas                        2.0.1\n",
      "pandocfilters                 1.5.0\n",
      "parso                         0.8.3\n",
      "pickleshare                   0.7.5\n",
      "Pillow                        9.5.0\n",
      "pip                           23.1.2\n",
      "pkgutil_resolve_name          1.3.10\n",
      "platformdirs                  3.5.1\n",
      "ply                           3.11\n",
      "prometheus-client             0.16.0\n",
      "prompt-toolkit                3.0.38\n",
      "protobuf                      3.19.6\n",
      "psutil                        5.9.5\n",
      "pure-eval                     0.2.2\n",
      "pyasn1                        0.5.0\n",
      "pyasn1-modules                0.3.0\n",
      "pycparser                     2.21\n",
      "pydantic                      1.10.7\n",
      "pydub                         0.25.1\n",
      "Pygments                      2.15.1\n",
      "pyparsing                     3.0.9\n",
      "PyQt5                         5.15.7\n",
      "PyQt5-sip                     12.11.0\n",
      "pyrsistent                    0.19.3\n",
      "python-dateutil               2.8.2\n",
      "python-json-logger            2.0.7\n",
      "python-multipart              0.0.6\n",
      "pytz                          2023.3\n",
      "pywin32                       304\n",
      "pywinpty                      2.0.10\n",
      "PyYAML                        6.0\n",
      "pyzmq                         25.0.2\n",
      "qtconsole                     5.4.3\n",
      "QtPy                          2.3.1\n",
      "regex                         2023.5.5\n",
      "requests                      2.30.0\n",
      "requests-oauthlib             1.3.1\n",
      "rfc3339-validator             0.1.4\n",
      "rfc3986-validator             0.1.1\n",
      "rsa                           4.9\n",
      "scikit-learn                  1.2.2\n",
      "scipy                         1.10.1\n",
      "seaborn                       0.12.2\n",
      "semantic-version              2.10.0\n",
      "Send2Trash                    1.8.2\n",
      "setuptools                    67.7.2\n",
      "sip                           6.7.9\n",
      "six                           1.16.0\n",
      "sniffio                       1.3.0\n",
      "soupsieve                     2.3.2.post1\n",
      "stack-data                    0.6.2\n",
      "starlette                     0.27.0\n",
      "tensorboard                   2.11.2\n",
      "tensorboard-data-server       0.6.1\n",
      "tensorboard-plugin-wit        1.8.1\n",
      "tensorflow                    2.7.0\n",
      "tensorflow-estimator          2.7.0\n",
      "tensorflow-intel              2.11.0\n",
      "tensorflow-io-gcs-filesystem  0.31.0\n",
      "termcolor                     2.3.0\n",
      "terminado                     0.15.0\n",
      "threadpoolctl                 3.1.0\n",
      "tinycss2                      1.2.1\n",
      "tokenizers                    0.13.3\n",
      "toml                          0.10.2\n",
      "tomli                         2.0.1\n",
      "toolz                         0.12.0\n",
      "tornado                       6.3.2\n",
      "tqdm                          4.65.0\n",
      "traitlets                     5.9.0\n",
      "transformers                  4.29.2\n",
      "typing_extensions             4.5.0\n",
      "tzdata                        2023.3\n",
      "uc-micro-py                   1.0.2\n",
      "urllib3                       1.26.15\n",
      "uvicorn                       0.22.0\n",
      "wcwidth                       0.2.6\n",
      "webencodings                  0.5.1\n",
      "websocket-client              1.5.2\n",
      "websockets                    11.0.3\n",
      "Werkzeug                      2.3.4\n",
      "wheel                         0.40.0\n",
      "widgetsnbextension            4.0.7\n",
      "wrapt                         1.15.0\n",
      "yarl                          1.9.2\n",
      "zipp                          3.15.0\n"
     ]
    }
   ],
   "source": [
    "!pip list"
   ]
  },
  {
   "cell_type": "code",
   "execution_count": 7,
   "metadata": {
    "tags": []
   },
   "outputs": [],
   "source": [
    "from tensorflow.keras.layers import TextVectorization"
   ]
  },
  {
   "cell_type": "code",
   "execution_count": 8,
   "metadata": {
    "tags": []
   },
   "outputs": [],
   "source": [
    "X = df['Tweet']\n",
    "y = df[df.columns[1:]].values"
   ]
  },
  {
   "cell_type": "code",
   "execution_count": 9,
   "metadata": {},
   "outputs": [
    {
     "data": {
      "text/html": [
       "<div>\n",
       "<style scoped>\n",
       "    .dataframe tbody tr th:only-of-type {\n",
       "        vertical-align: middle;\n",
       "    }\n",
       "\n",
       "    .dataframe tbody tr th {\n",
       "        vertical-align: top;\n",
       "    }\n",
       "\n",
       "    .dataframe thead th {\n",
       "        text-align: right;\n",
       "    }\n",
       "</style>\n",
       "<table border=\"1\" class=\"dataframe\">\n",
       "  <thead>\n",
       "    <tr style=\"text-align: right;\">\n",
       "      <th></th>\n",
       "      <th>HS</th>\n",
       "      <th>Abusive</th>\n",
       "      <th>HS_Individual</th>\n",
       "      <th>HS_Group</th>\n",
       "      <th>HS_Religion</th>\n",
       "      <th>HS_Race</th>\n",
       "      <th>HS_Physical</th>\n",
       "      <th>HS_Gender</th>\n",
       "      <th>HS_Other</th>\n",
       "      <th>HS_Weak</th>\n",
       "      <th>HS_Moderate</th>\n",
       "      <th>HS_Strong</th>\n",
       "    </tr>\n",
       "  </thead>\n",
       "  <tbody>\n",
       "    <tr>\n",
       "      <th>0</th>\n",
       "      <td>1</td>\n",
       "      <td>1</td>\n",
       "      <td>1</td>\n",
       "      <td>0</td>\n",
       "      <td>0</td>\n",
       "      <td>0</td>\n",
       "      <td>0</td>\n",
       "      <td>0</td>\n",
       "      <td>1</td>\n",
       "      <td>1</td>\n",
       "      <td>0</td>\n",
       "      <td>0</td>\n",
       "    </tr>\n",
       "    <tr>\n",
       "      <th>1</th>\n",
       "      <td>0</td>\n",
       "      <td>1</td>\n",
       "      <td>0</td>\n",
       "      <td>0</td>\n",
       "      <td>0</td>\n",
       "      <td>0</td>\n",
       "      <td>0</td>\n",
       "      <td>0</td>\n",
       "      <td>0</td>\n",
       "      <td>0</td>\n",
       "      <td>0</td>\n",
       "      <td>0</td>\n",
       "    </tr>\n",
       "    <tr>\n",
       "      <th>2</th>\n",
       "      <td>0</td>\n",
       "      <td>0</td>\n",
       "      <td>0</td>\n",
       "      <td>0</td>\n",
       "      <td>0</td>\n",
       "      <td>0</td>\n",
       "      <td>0</td>\n",
       "      <td>0</td>\n",
       "      <td>0</td>\n",
       "      <td>0</td>\n",
       "      <td>0</td>\n",
       "      <td>0</td>\n",
       "    </tr>\n",
       "    <tr>\n",
       "      <th>3</th>\n",
       "      <td>0</td>\n",
       "      <td>0</td>\n",
       "      <td>0</td>\n",
       "      <td>0</td>\n",
       "      <td>0</td>\n",
       "      <td>0</td>\n",
       "      <td>0</td>\n",
       "      <td>0</td>\n",
       "      <td>0</td>\n",
       "      <td>0</td>\n",
       "      <td>0</td>\n",
       "      <td>0</td>\n",
       "    </tr>\n",
       "    <tr>\n",
       "      <th>4</th>\n",
       "      <td>1</td>\n",
       "      <td>1</td>\n",
       "      <td>0</td>\n",
       "      <td>1</td>\n",
       "      <td>1</td>\n",
       "      <td>0</td>\n",
       "      <td>0</td>\n",
       "      <td>0</td>\n",
       "      <td>0</td>\n",
       "      <td>0</td>\n",
       "      <td>1</td>\n",
       "      <td>0</td>\n",
       "    </tr>\n",
       "    <tr>\n",
       "      <th>...</th>\n",
       "      <td>...</td>\n",
       "      <td>...</td>\n",
       "      <td>...</td>\n",
       "      <td>...</td>\n",
       "      <td>...</td>\n",
       "      <td>...</td>\n",
       "      <td>...</td>\n",
       "      <td>...</td>\n",
       "      <td>...</td>\n",
       "      <td>...</td>\n",
       "      <td>...</td>\n",
       "      <td>...</td>\n",
       "    </tr>\n",
       "    <tr>\n",
       "      <th>13164</th>\n",
       "      <td>1</td>\n",
       "      <td>1</td>\n",
       "      <td>1</td>\n",
       "      <td>0</td>\n",
       "      <td>0</td>\n",
       "      <td>0</td>\n",
       "      <td>1</td>\n",
       "      <td>0</td>\n",
       "      <td>0</td>\n",
       "      <td>1</td>\n",
       "      <td>0</td>\n",
       "      <td>0</td>\n",
       "    </tr>\n",
       "    <tr>\n",
       "      <th>13165</th>\n",
       "      <td>0</td>\n",
       "      <td>1</td>\n",
       "      <td>0</td>\n",
       "      <td>0</td>\n",
       "      <td>0</td>\n",
       "      <td>0</td>\n",
       "      <td>0</td>\n",
       "      <td>0</td>\n",
       "      <td>0</td>\n",
       "      <td>0</td>\n",
       "      <td>0</td>\n",
       "      <td>0</td>\n",
       "    </tr>\n",
       "    <tr>\n",
       "      <th>13166</th>\n",
       "      <td>0</td>\n",
       "      <td>0</td>\n",
       "      <td>0</td>\n",
       "      <td>0</td>\n",
       "      <td>0</td>\n",
       "      <td>0</td>\n",
       "      <td>0</td>\n",
       "      <td>0</td>\n",
       "      <td>0</td>\n",
       "      <td>0</td>\n",
       "      <td>0</td>\n",
       "      <td>0</td>\n",
       "    </tr>\n",
       "    <tr>\n",
       "      <th>13167</th>\n",
       "      <td>0</td>\n",
       "      <td>0</td>\n",
       "      <td>0</td>\n",
       "      <td>0</td>\n",
       "      <td>0</td>\n",
       "      <td>0</td>\n",
       "      <td>0</td>\n",
       "      <td>0</td>\n",
       "      <td>0</td>\n",
       "      <td>0</td>\n",
       "      <td>0</td>\n",
       "      <td>0</td>\n",
       "    </tr>\n",
       "    <tr>\n",
       "      <th>13168</th>\n",
       "      <td>1</td>\n",
       "      <td>1</td>\n",
       "      <td>1</td>\n",
       "      <td>0</td>\n",
       "      <td>0</td>\n",
       "      <td>0</td>\n",
       "      <td>0</td>\n",
       "      <td>0</td>\n",
       "      <td>1</td>\n",
       "      <td>1</td>\n",
       "      <td>0</td>\n",
       "      <td>0</td>\n",
       "    </tr>\n",
       "  </tbody>\n",
       "</table>\n",
       "<p>13169 rows × 12 columns</p>\n",
       "</div>"
      ],
      "text/plain": [
       "       HS  Abusive  HS_Individual  HS_Group  HS_Religion  HS_Race   \n",
       "0       1        1              1         0            0        0  \\\n",
       "1       0        1              0         0            0        0   \n",
       "2       0        0              0         0            0        0   \n",
       "3       0        0              0         0            0        0   \n",
       "4       1        1              0         1            1        0   \n",
       "...    ..      ...            ...       ...          ...      ...   \n",
       "13164   1        1              1         0            0        0   \n",
       "13165   0        1              0         0            0        0   \n",
       "13166   0        0              0         0            0        0   \n",
       "13167   0        0              0         0            0        0   \n",
       "13168   1        1              1         0            0        0   \n",
       "\n",
       "       HS_Physical  HS_Gender  HS_Other  HS_Weak  HS_Moderate  HS_Strong  \n",
       "0                0          0         1        1            0          0  \n",
       "1                0          0         0        0            0          0  \n",
       "2                0          0         0        0            0          0  \n",
       "3                0          0         0        0            0          0  \n",
       "4                0          0         0        0            1          0  \n",
       "...            ...        ...       ...      ...          ...        ...  \n",
       "13164            1          0         0        1            0          0  \n",
       "13165            0          0         0        0            0          0  \n",
       "13166            0          0         0        0            0          0  \n",
       "13167            0          0         0        0            0          0  \n",
       "13168            0          0         1        1            0          0  \n",
       "\n",
       "[13169 rows x 12 columns]"
      ]
     },
     "execution_count": 9,
     "metadata": {},
     "output_type": "execute_result"
    }
   ],
   "source": [
    "df[df.columns[1:]]"
   ]
  },
  {
   "cell_type": "code",
   "execution_count": 10,
   "metadata": {
    "tags": []
   },
   "outputs": [],
   "source": [
    "MAX_FEATURES = 200000 # number of words in the vocab"
   ]
  },
  {
   "cell_type": "code",
   "execution_count": 11,
   "metadata": {
    "tags": []
   },
   "outputs": [],
   "source": [
    "vectorizer = TextVectorization(max_tokens=MAX_FEATURES,\n",
    "                               output_sequence_length=1800,\n",
    "                               output_mode='int')"
   ]
  },
  {
   "cell_type": "code",
   "execution_count": 12,
   "metadata": {
    "tags": []
   },
   "outputs": [],
   "source": [
    "vectorizer.adapt(X.values)"
   ]
  },
  {
   "cell_type": "code",
   "execution_count": 13,
   "metadata": {
    "tags": []
   },
   "outputs": [],
   "source": [
    "vectorized_text = vectorizer(X.values)"
   ]
  },
  {
   "cell_type": "code",
   "execution_count": 14,
   "metadata": {
    "tags": []
   },
   "outputs": [],
   "source": [
    "#MCSHBAP - map, chache, shuffle, batch, prefetch  from_tensor_slices, list_file\n",
    "dataset = tf.data.Dataset.from_tensor_slices((vectorized_text, y))\n",
    "dataset = dataset.cache()\n",
    "dataset = dataset.shuffle(160000)\n",
    "dataset = dataset.batch(16)\n",
    "dataset = dataset.prefetch(8) # helps bottlenecks"
   ]
  },
  {
   "cell_type": "code",
   "execution_count": 15,
   "metadata": {
    "tags": []
   },
   "outputs": [],
   "source": [
    "train = dataset.take(int(len(dataset)*.7))\n",
    "val = dataset.skip(int(len(dataset)*.7)).take(int(len(dataset)*.2))\n",
    "test = dataset.skip(int(len(dataset)*.9)).take(int(len(dataset)*.1))"
   ]
  },
  {
   "cell_type": "code",
   "execution_count": 16,
   "metadata": {},
   "outputs": [
    {
     "name": "stdout",
     "output_type": "stream",
     "text": [
      "Jumlah data pelatihan: 82\n"
     ]
    }
   ],
   "source": [
    "train_size = len(test)\n",
    "print(\"Jumlah data pelatihan:\", train_size)"
   ]
  },
  {
   "cell_type": "markdown",
   "metadata": {},
   "source": [
    "# 2. Create Sequential Model"
   ]
  },
  {
   "cell_type": "code",
   "execution_count": 17,
   "metadata": {
    "tags": []
   },
   "outputs": [],
   "source": [
    "from tensorflow.keras.models import Sequential\n",
    "from tensorflow.keras.layers import LSTM, Dropout, Bidirectional, Dense, Embedding"
   ]
  },
  {
   "cell_type": "code",
   "execution_count": 18,
   "metadata": {
    "tags": []
   },
   "outputs": [],
   "source": [
    "model = Sequential()\n",
    "# Create the embedding layer \n",
    "model.add(Embedding(MAX_FEATURES+1, 32))\n",
    "# Bidirectional LSTM Layer\n",
    "model.add(Bidirectional(LSTM(32, activation='tanh')))\n",
    "# Feature extractor Fully connected layers\n",
    "model.add(Dense(128, activation='relu'))\n",
    "model.add(Dense(256, activation='relu'))\n",
    "model.add(Dense(128, activation='relu'))\n",
    "# Final layer \n",
    "model.add(Dense(12, activation='sigmoid'))"
   ]
  },
  {
   "cell_type": "code",
   "execution_count": 19,
   "metadata": {
    "tags": []
   },
   "outputs": [],
   "source": [
    "model.compile(loss='BinaryCrossentropy', optimizer='Adam')"
   ]
  },
  {
   "cell_type": "code",
   "execution_count": 20,
   "metadata": {
    "scrolled": true,
    "tags": []
   },
   "outputs": [
    {
     "name": "stdout",
     "output_type": "stream",
     "text": [
      "Model: \"sequential\"\n",
      "_________________________________________________________________\n",
      " Layer (type)                Output Shape              Param #   \n",
      "=================================================================\n",
      " embedding (Embedding)       (None, None, 32)          6400032   \n",
      "                                                                 \n",
      " bidirectional (Bidirectiona  (None, 64)               16640     \n",
      " l)                                                              \n",
      "                                                                 \n",
      " dense (Dense)               (None, 128)               8320      \n",
      "                                                                 \n",
      " dense_1 (Dense)             (None, 256)               33024     \n",
      "                                                                 \n",
      " dense_2 (Dense)             (None, 128)               32896     \n",
      "                                                                 \n",
      " dense_3 (Dense)             (None, 12)                1548      \n",
      "                                                                 \n",
      "=================================================================\n",
      "Total params: 6,492,460\n",
      "Trainable params: 6,492,460\n",
      "Non-trainable params: 0\n",
      "_________________________________________________________________\n"
     ]
    }
   ],
   "source": [
    "model.summary()"
   ]
  },
  {
   "cell_type": "code",
   "execution_count": 21,
   "metadata": {
    "tags": []
   },
   "outputs": [
    {
     "name": "stdout",
     "output_type": "stream",
     "text": [
      "Epoch 1/100\n",
      "576/576 [==============================] - 162s 273ms/step - loss: 0.3422 - val_loss: 0.2585\n",
      "Epoch 2/100\n",
      "576/576 [==============================] - 163s 283ms/step - loss: 0.2396 - val_loss: 0.1972\n",
      "Epoch 3/100\n",
      "576/576 [==============================] - 168s 292ms/step - loss: 0.1982 - val_loss: 0.1702\n",
      "Epoch 4/100\n",
      "576/576 [==============================] - 177s 307ms/step - loss: 0.1729 - val_loss: 0.1543\n",
      "Epoch 5/100\n",
      "576/576 [==============================] - 173s 300ms/step - loss: 0.1517 - val_loss: 0.1248\n",
      "Epoch 6/100\n",
      "576/576 [==============================] - 175s 305ms/step - loss: 0.1283 - val_loss: 0.1106\n",
      "Epoch 7/100\n",
      "576/576 [==============================] - 178s 308ms/step - loss: 0.1079 - val_loss: 0.0943\n",
      "Epoch 8/100\n",
      "576/576 [==============================] - 176s 305ms/step - loss: 0.0980 - val_loss: 0.0820\n",
      "Epoch 9/100\n",
      "576/576 [==============================] - 174s 303ms/step - loss: 0.0817 - val_loss: 0.0658\n",
      "Epoch 10/100\n",
      "576/576 [==============================] - 175s 304ms/step - loss: 0.0709 - val_loss: 0.0541\n",
      "Epoch 11/100\n",
      "576/576 [==============================] - 176s 306ms/step - loss: 0.0614 - val_loss: 0.0582\n",
      "Epoch 12/100\n",
      "576/576 [==============================] - 175s 304ms/step - loss: 0.0543 - val_loss: 0.0497\n",
      "Epoch 13/100\n",
      "576/576 [==============================] - 172s 298ms/step - loss: 0.0470 - val_loss: 0.0466\n",
      "Epoch 14/100\n",
      "576/576 [==============================] - 172s 298ms/step - loss: 0.0443 - val_loss: 0.0351\n",
      "Epoch 15/100\n",
      "576/576 [==============================] - 176s 306ms/step - loss: 0.0391 - val_loss: 0.0320\n",
      "Epoch 16/100\n",
      "576/576 [==============================] - 174s 302ms/step - loss: 0.0356 - val_loss: 0.0284\n",
      "Epoch 17/100\n",
      "576/576 [==============================] - 175s 303ms/step - loss: 0.0309 - val_loss: 0.0260\n",
      "Epoch 18/100\n",
      "576/576 [==============================] - 180s 313ms/step - loss: 0.0260 - val_loss: 0.0251\n",
      "Epoch 19/100\n",
      "576/576 [==============================] - 171s 297ms/step - loss: 0.0293 - val_loss: 0.0227\n",
      "Epoch 20/100\n",
      "576/576 [==============================] - 175s 303ms/step - loss: 0.0265 - val_loss: 0.0291\n",
      "Epoch 21/100\n",
      "576/576 [==============================] - 172s 298ms/step - loss: 0.0220 - val_loss: 0.0175\n",
      "Epoch 22/100\n",
      "576/576 [==============================] - 174s 302ms/step - loss: 0.0206 - val_loss: 0.0162\n",
      "Epoch 23/100\n",
      "576/576 [==============================] - 171s 296ms/step - loss: 0.0196 - val_loss: 0.0176\n",
      "Epoch 24/100\n",
      "576/576 [==============================] - 174s 302ms/step - loss: 0.0192 - val_loss: 0.0159\n",
      "Epoch 25/100\n",
      "576/576 [==============================] - 176s 305ms/step - loss: 0.0160 - val_loss: 0.0116\n",
      "Epoch 26/100\n",
      "576/576 [==============================] - 171s 298ms/step - loss: 0.0159 - val_loss: 0.0135\n",
      "Epoch 27/100\n",
      "576/576 [==============================] - 170s 296ms/step - loss: 0.0189 - val_loss: 0.0200\n",
      "Epoch 28/100\n",
      "576/576 [==============================] - 177s 308ms/step - loss: 0.0154 - val_loss: 0.0221\n",
      "Epoch 29/100\n",
      "576/576 [==============================] - 175s 305ms/step - loss: 0.0141 - val_loss: 0.0117\n",
      "Epoch 30/100\n",
      "576/576 [==============================] - 180s 313ms/step - loss: 0.0147 - val_loss: 0.0097\n",
      "Epoch 31/100\n",
      "576/576 [==============================] - 174s 302ms/step - loss: 0.0139 - val_loss: 0.0153\n",
      "Epoch 32/100\n",
      "576/576 [==============================] - 179s 311ms/step - loss: 0.0144 - val_loss: 0.0089\n",
      "Epoch 33/100\n",
      "576/576 [==============================] - 177s 307ms/step - loss: 0.0109 - val_loss: 0.0090\n",
      "Epoch 34/100\n",
      "576/576 [==============================] - 186s 323ms/step - loss: 0.0106 - val_loss: 0.0071\n",
      "Epoch 35/100\n",
      "576/576 [==============================] - 176s 305ms/step - loss: 0.0098 - val_loss: 0.0100\n",
      "Epoch 36/100\n",
      "576/576 [==============================] - 173s 301ms/step - loss: 0.0105 - val_loss: 0.0067\n",
      "Epoch 37/100\n",
      "576/576 [==============================] - 171s 296ms/step - loss: 0.0094 - val_loss: 0.0069\n",
      "Epoch 38/100\n",
      "576/576 [==============================] - 172s 298ms/step - loss: 0.0100 - val_loss: 0.0085\n",
      "Epoch 39/100\n",
      "576/576 [==============================] - 171s 297ms/step - loss: 0.0111 - val_loss: 0.0061\n",
      "Epoch 40/100\n",
      "576/576 [==============================] - 171s 297ms/step - loss: 0.0084 - val_loss: 0.0098\n",
      "Epoch 41/100\n",
      "576/576 [==============================] - 172s 298ms/step - loss: 0.0078 - val_loss: 0.0046\n",
      "Epoch 42/100\n",
      "576/576 [==============================] - 171s 297ms/step - loss: 0.0091 - val_loss: 0.0062\n",
      "Epoch 43/100\n",
      "576/576 [==============================] - 170s 295ms/step - loss: 0.0064 - val_loss: 0.0055\n",
      "Epoch 44/100\n",
      "576/576 [==============================] - 171s 297ms/step - loss: 0.0078 - val_loss: 0.0116\n",
      "Epoch 45/100\n",
      "576/576 [==============================] - 170s 296ms/step - loss: 0.0117 - val_loss: 0.0075\n",
      "Epoch 46/100\n",
      "576/576 [==============================] - 170s 296ms/step - loss: 0.0078 - val_loss: 0.0063\n",
      "Epoch 47/100\n",
      "576/576 [==============================] - 171s 297ms/step - loss: 0.0075 - val_loss: 0.0041\n",
      "Epoch 48/100\n",
      "576/576 [==============================] - 170s 295ms/step - loss: 0.0049 - val_loss: 0.0087\n",
      "Epoch 49/100\n",
      "576/576 [==============================] - 171s 297ms/step - loss: 0.0066 - val_loss: 0.0063\n",
      "Epoch 50/100\n",
      "576/576 [==============================] - 170s 295ms/step - loss: 0.0066 - val_loss: 0.0073\n",
      "Epoch 51/100\n",
      "576/576 [==============================] - 170s 295ms/step - loss: 0.0087 - val_loss: 0.0082\n",
      "Epoch 52/100\n",
      "576/576 [==============================] - 170s 296ms/step - loss: 0.0073 - val_loss: 0.0052\n",
      "Epoch 53/100\n",
      "576/576 [==============================] - 168s 291ms/step - loss: 0.0060 - val_loss: 0.0040\n",
      "Epoch 54/100\n",
      "576/576 [==============================] - 171s 297ms/step - loss: 0.0044 - val_loss: 0.0056\n",
      "Epoch 55/100\n",
      "576/576 [==============================] - 170s 296ms/step - loss: 0.0049 - val_loss: 0.0033\n",
      "Epoch 56/100\n",
      "576/576 [==============================] - 171s 296ms/step - loss: 0.0054 - val_loss: 0.0038\n",
      "Epoch 57/100\n",
      "576/576 [==============================] - 171s 297ms/step - loss: 0.0052 - val_loss: 0.0036\n",
      "Epoch 58/100\n",
      "576/576 [==============================] - 171s 297ms/step - loss: 0.0103 - val_loss: 0.0053\n",
      "Epoch 59/100\n",
      "576/576 [==============================] - 170s 295ms/step - loss: 0.0071 - val_loss: 0.0053\n",
      "Epoch 60/100\n",
      "576/576 [==============================] - 170s 295ms/step - loss: 0.0049 - val_loss: 0.0043\n",
      "Epoch 61/100\n",
      "576/576 [==============================] - 170s 296ms/step - loss: 0.0051 - val_loss: 0.0033\n",
      "Epoch 62/100\n",
      "576/576 [==============================] - 171s 297ms/step - loss: 0.0039 - val_loss: 0.0025\n",
      "Epoch 63/100\n",
      "576/576 [==============================] - 167s 289ms/step - loss: 0.0052 - val_loss: 0.0052\n",
      "Epoch 64/100\n",
      "576/576 [==============================] - 170s 295ms/step - loss: 0.0074 - val_loss: 0.0048\n",
      "Epoch 65/100\n",
      "576/576 [==============================] - 169s 294ms/step - loss: 0.0054 - val_loss: 0.0048\n",
      "Epoch 66/100\n",
      "576/576 [==============================] - 170s 296ms/step - loss: 0.0069 - val_loss: 0.0055\n",
      "Epoch 67/100\n",
      "576/576 [==============================] - 170s 295ms/step - loss: 0.0042 - val_loss: 0.0021\n",
      "Epoch 68/100\n",
      "576/576 [==============================] - 171s 297ms/step - loss: 0.0036 - val_loss: 0.0029\n",
      "Epoch 69/100\n",
      "576/576 [==============================] - 169s 294ms/step - loss: 0.0037 - val_loss: 0.0031\n",
      "Epoch 70/100\n",
      "576/576 [==============================] - 167s 289ms/step - loss: 0.0053 - val_loss: 0.0048\n",
      "Epoch 71/100\n",
      "576/576 [==============================] - 166s 288ms/step - loss: 0.0075 - val_loss: 0.0052\n",
      "Epoch 72/100\n",
      "576/576 [==============================] - 165s 286ms/step - loss: 0.0064 - val_loss: 0.0078\n",
      "Epoch 73/100\n",
      "576/576 [==============================] - 169s 294ms/step - loss: 0.0046 - val_loss: 0.0027\n",
      "Epoch 74/100\n",
      "576/576 [==============================] - 169s 293ms/step - loss: 0.0035 - val_loss: 0.0031\n",
      "Epoch 75/100\n",
      "576/576 [==============================] - 170s 295ms/step - loss: 0.0036 - val_loss: 0.0030\n",
      "Epoch 76/100\n",
      "576/576 [==============================] - 171s 296ms/step - loss: 0.0041 - val_loss: 0.0041\n",
      "Epoch 77/100\n",
      "576/576 [==============================] - 170s 295ms/step - loss: 0.0069 - val_loss: 0.0036\n",
      "Epoch 78/100\n",
      "576/576 [==============================] - 177s 307ms/step - loss: 0.0036 - val_loss: 0.0073\n",
      "Epoch 79/100\n",
      "576/576 [==============================] - 171s 297ms/step - loss: 0.0036 - val_loss: 0.0023\n",
      "Epoch 80/100\n",
      "576/576 [==============================] - 169s 293ms/step - loss: 0.0059 - val_loss: 0.0061\n",
      "Epoch 81/100\n",
      "576/576 [==============================] - 166s 287ms/step - loss: 0.0055 - val_loss: 0.0046\n",
      "Epoch 82/100\n",
      "576/576 [==============================] - 169s 294ms/step - loss: 0.0040 - val_loss: 0.0054\n",
      "Epoch 83/100\n",
      "576/576 [==============================] - 169s 293ms/step - loss: 0.0046 - val_loss: 0.0030\n",
      "Epoch 84/100\n",
      "576/576 [==============================] - 163s 283ms/step - loss: 0.0038 - val_loss: 0.0025\n",
      "Epoch 85/100\n",
      "576/576 [==============================] - 161s 279ms/step - loss: 0.0047 - val_loss: 0.0039\n",
      "Epoch 86/100\n",
      "576/576 [==============================] - 173s 301ms/step - loss: 0.0044 - val_loss: 0.0018\n",
      "Epoch 87/100\n",
      "576/576 [==============================] - 212s 368ms/step - loss: 0.0036 - val_loss: 0.0057\n",
      "Epoch 88/100\n",
      "576/576 [==============================] - 214s 372ms/step - loss: 0.0054 - val_loss: 0.0039\n",
      "Epoch 89/100\n",
      "576/576 [==============================] - 217s 377ms/step - loss: 0.0036 - val_loss: 0.0024\n",
      "Epoch 90/100\n",
      "576/576 [==============================] - 209s 363ms/step - loss: 0.0030 - val_loss: 0.0034\n",
      "Epoch 91/100\n",
      "576/576 [==============================] - 210s 365ms/step - loss: 0.0026 - val_loss: 0.0024\n",
      "Epoch 92/100\n",
      "576/576 [==============================] - 169s 293ms/step - loss: 0.0031 - val_loss: 0.0042\n",
      "Epoch 93/100\n",
      "576/576 [==============================] - 183s 319ms/step - loss: 0.0044 - val_loss: 0.0029\n",
      "Epoch 94/100\n",
      "576/576 [==============================] - 198s 344ms/step - loss: 0.0049 - val_loss: 0.0029\n",
      "Epoch 95/100\n",
      "576/576 [==============================] - 207s 360ms/step - loss: 0.0042 - val_loss: 0.0028\n",
      "Epoch 96/100\n",
      "576/576 [==============================] - 177s 307ms/step - loss: 0.0059 - val_loss: 0.0061\n",
      "Epoch 97/100\n",
      "576/576 [==============================] - 204s 354ms/step - loss: 0.0036 - val_loss: 0.0020\n",
      "Epoch 98/100\n",
      "576/576 [==============================] - 167s 290ms/step - loss: 0.0040 - val_loss: 0.0026\n",
      "Epoch 99/100\n",
      "576/576 [==============================] - 171s 297ms/step - loss: 0.0041 - val_loss: 0.0097\n",
      "Epoch 100/100\n",
      "576/576 [==============================] - 189s 327ms/step - loss: 0.0044 - val_loss: 0.0024\n"
     ]
    }
   ],
   "source": [
    "history = model.fit(train, epochs=100, validation_data=val)"
   ]
  },
  {
   "cell_type": "code",
   "execution_count": 22,
   "metadata": {
    "tags": []
   },
   "outputs": [],
   "source": [
    "from matplotlib import pyplot as plt"
   ]
  },
  {
   "cell_type": "code",
   "execution_count": 23,
   "metadata": {
    "jupyter": {
     "outputs_hidden": true
    },
    "tags": []
   },
   "outputs": [
    {
     "data": {
      "text/plain": [
       "<Figure size 800x500 with 0 Axes>"
      ]
     },
     "metadata": {},
     "output_type": "display_data"
    },
    {
     "data": {
      "image/png": "[encoded data removed]",
      "text/plain": [
       "<Figure size 640x480 with 1 Axes>"
      ]
     },
     "metadata": {},
     "output_type": "display_data"
    }
   ],
   "source": [
    "plt.figure(figsize=(8,5))\n",
    "pd.DataFrame(history.history).plot()\n",
    "plt.show()"
   ]
  },
  {
   "cell_type": "markdown",
   "metadata": {},
   "source": [
    "# 3. Make Predictions"
   ]
  },
  {
   "cell_type": "code",
   "execution_count": 24,
   "metadata": {
    "tags": []
   },
   "outputs": [],
   "source": [
    "input_text = vectorizer(['siapa suruh kesana lo, kena korupsi kan?'])"
   ]
  },
  {
   "cell_type": "code",
   "execution_count": 25,
   "metadata": {
    "tags": []
   },
   "outputs": [],
   "source": [
    "res = model.predict(input_text)"
   ]
  },
  {
   "cell_type": "code",
   "execution_count": 26,
   "metadata": {
    "jupyter": {
     "source_hidden": true
    }
   },
   "outputs": [
    {
     "data": {
      "text/plain": [
       "array([[1, 1, 1, 0, 0, 1, 0, 0, 0, 1, 0, 0]])"
      ]
     },
     "execution_count": 26,
     "metadata": {},
     "output_type": "execute_result"
    }
   ],
   "source": [
    "(res > 0.5).astype(int)"
   ]
  },
  {
   "cell_type": "code",
   "execution_count": 27,
   "metadata": {},
   "outputs": [],
   "source": [
    "batch_X, batch_y = test.as_numpy_iterator().next()"
   ]
  },
  {
   "cell_type": "code",
   "execution_count": 28,
   "metadata": {
    "jupyter": {
     "outputs_hidden": true
    },
    "tags": []
   },
   "outputs": [
    {
     "data": {
      "text/plain": [
       "array([[1, 0, 0, 1, 1, 0, 0, 0, 0, 0, 0, 1],\n",
       "       [0, 0, 0, 0, 0, 0, 0, 0, 0, 0, 0, 0],\n",
       "       [0, 0, 0, 0, 0, 0, 0, 0, 0, 0, 0, 0],\n",
       "       [0, 0, 0, 0, 0, 0, 0, 0, 0, 0, 0, 0],\n",
       "       [0, 0, 0, 0, 0, 0, 0, 0, 0, 0, 0, 0],\n",
       "       [0, 0, 0, 0, 0, 0, 0, 0, 0, 0, 0, 0],\n",
       "       [1, 1, 1, 0, 0, 0, 0, 0, 1, 1, 0, 0],\n",
       "       [0, 0, 0, 0, 0, 0, 0, 0, 0, 0, 0, 0],\n",
       "       [1, 1, 0, 1, 0, 0, 0, 0, 1, 0, 1, 0],\n",
       "       [1, 1, 1, 0, 0, 0, 0, 0, 1, 1, 0, 0],\n",
       "       [0, 0, 0, 0, 0, 0, 0, 0, 0, 0, 0, 0],\n",
       "       [0, 0, 0, 0, 0, 0, 0, 0, 0, 0, 0, 0],\n",
       "       [0, 0, 0, 0, 0, 0, 0, 0, 0, 0, 0, 0],\n",
       "       [1, 1, 1, 0, 0, 0, 0, 0, 1, 1, 0, 0],\n",
       "       [1, 0, 1, 0, 0, 0, 0, 0, 1, 1, 0, 0],\n",
       "       [0, 0, 0, 0, 0, 0, 0, 0, 0, 0, 0, 0]])"
      ]
     },
     "execution_count": 28,
     "metadata": {},
     "output_type": "execute_result"
    }
   ],
   "source": [
    "(model.predict(batch_X) > 0.5).astype(int)"
   ]
  },
  {
   "cell_type": "code",
   "execution_count": 29,
   "metadata": {},
   "outputs": [
    {
     "data": {
      "text/plain": [
       "(1, 12)"
      ]
     },
     "execution_count": 29,
     "metadata": {},
     "output_type": "execute_result"
    }
   ],
   "source": [
    "res.shape"
   ]
  },
  {
   "cell_type": "markdown",
   "metadata": {},
   "source": [
    "# 4. Evaluate Model"
   ]
  },
  {
   "cell_type": "code",
   "execution_count": 30,
   "metadata": {
    "tags": []
   },
   "outputs": [],
   "source": [
    "from tensorflow.keras.metrics import Precision, Recall, CategoricalAccuracy"
   ]
  },
  {
   "cell_type": "code",
   "execution_count": 31,
   "metadata": {
    "tags": []
   },
   "outputs": [],
   "source": [
    "pre = Precision()\n",
    "re = Recall()\n",
    "acc = CategoricalAccuracy()"
   ]
  },
  {
   "cell_type": "code",
   "execution_count": 32,
   "metadata": {
    "tags": []
   },
   "outputs": [],
   "source": [
    "for batch in test.as_numpy_iterator(): \n",
    "    # Unpack the batch \n",
    "    X_true, y_true = batch\n",
    "    # Make a prediction \n",
    "    yhat = model.predict(X_true)\n",
    "    \n",
    "    # Flatten the predictions\n",
    "    y_true = y_true.flatten()\n",
    "    yhat = yhat.flatten()\n",
    "    \n",
    "    pre.update_state(y_true, yhat)\n",
    "    re.update_state(y_true, yhat)\n",
    "    acc.update_state(y_true, yhat)"
   ]
  },
  {
   "cell_type": "code",
   "execution_count": 33,
   "metadata": {
    "tags": []
   },
   "outputs": [
    {
     "name": "stdout",
     "output_type": "stream",
     "text": [
      "Precision: 0.9971191883087158, Recall:0.9974783658981323, Accuracy:0.5853658318519592\n"
     ]
    }
   ],
   "source": [
    "print(f'Precision: {pre.result().numpy()}, Recall:{re.result().numpy()}, Accuracy:{acc.result().numpy()}')"
   ]
  },
  {
   "cell_type": "markdown",
   "metadata": {},
   "source": [
    "# 5. Test menggunakan Gradio"
   ]
  },
  {
   "cell_type": "code",
   "execution_count": null,
   "metadata": {
    "jupyter": {
     "outputs_hidden": true
    },
    "tags": []
   },
   "outputs": [],
   "source": [
    "!pip install gradio jinja2"
   ]
  },
  {
   "cell_type": "code",
   "execution_count": 34,
   "metadata": {
    "jupyter": {
     "outputs_hidden": true
    },
    "tags": []
   },
   "outputs": [],
   "source": [
    "import tensorflow as tf\n",
    "import gradio as gr"
   ]
  },
  {
   "cell_type": "code",
   "execution_count": 35,
   "metadata": {
    "tags": []
   },
   "outputs": [],
   "source": [
    "model.save('toxicity.h5')"
   ]
  },
  {
   "cell_type": "code",
   "execution_count": 36,
   "metadata": {
    "tags": []
   },
   "outputs": [],
   "source": [
    "model = tf.keras.models.load_model('toxicity.h5')"
   ]
  },
  {
   "cell_type": "code",
   "execution_count": 37,
   "metadata": {
    "tags": []
   },
   "outputs": [],
   "source": [
    "input_str = vectorizer('apaan lu, uda gaya gayaan, mau gua tabok lu anying?')"
   ]
  },
  {
   "cell_type": "code",
   "execution_count": 38,
   "metadata": {
    "tags": []
   },
   "outputs": [],
   "source": [
    "res = model.predict(np.expand_dims(input_str,0))"
   ]
  },
  {
   "cell_type": "code",
   "execution_count": 39,
   "metadata": {
    "tags": []
   },
   "outputs": [
    {
     "data": {
      "text/plain": [
       "array([[1.0000000e+00, 1.3270355e-03, 9.9999988e-01, 1.1636804e-09,\n",
       "        1.3071178e-06, 2.4640795e-07, 1.5329601e-06, 1.2621786e-08,\n",
       "        9.9997950e-01, 9.9999750e-01, 1.7171398e-09, 6.0960978e-09]],\n",
       "      dtype=float32)"
      ]
     },
     "execution_count": 39,
     "metadata": {},
     "output_type": "execute_result"
    }
   ],
   "source": [
    "res"
   ]
  },
  {
   "cell_type": "code",
   "execution_count": 40,
   "metadata": {
    "tags": []
   },
   "outputs": [],
   "source": [
    "def score_comment(comment):\n",
    "    vectorized_comment = vectorizer([comment])\n",
    "    results = model.predict(vectorized_comment)\n",
    "    \n",
    "    text = ''\n",
    "    for idx, col in enumerate(df.columns[2:]):\n",
    "        text += '{}: {}\\n'.format(col, results[0][idx]>0.5)\n",
    "    \n",
    "    return text"
   ]
  },
  {
   "cell_type": "code",
   "execution_count": 41,
   "metadata": {
    "tags": []
   },
   "outputs": [
    {
     "name": "stderr",
     "output_type": "stream",
     "text": [
      "C:\\Users\\HP\\miniconda3\\envs\\tf\\lib\\site-packages\\gradio\\inputs.py:27: UserWarning: Usage of gradio.inputs is deprecated, and will not be supported in the future, please import your component from gradio.components\n",
      "  warnings.warn(\n",
      "C:\\Users\\HP\\miniconda3\\envs\\tf\\lib\\site-packages\\gradio\\inputs.py:30: UserWarning: `optional` parameter is deprecated, and it has no effect\n",
      "  super().__init__(\n",
      "C:\\Users\\HP\\miniconda3\\envs\\tf\\lib\\site-packages\\gradio\\inputs.py:30: UserWarning: `numeric` parameter is deprecated, and it has no effect\n",
      "  super().__init__(\n"
     ]
    }
   ],
   "source": [
    "interface = gr.Interface(fn=score_comment, \n",
    "                         inputs=gr.inputs.Textbox(lines=2, placeholder='Comment to score'),\n",
    "                        outputs='text')"
   ]
  },
  {
   "cell_type": "code",
   "execution_count": 42,
   "metadata": {
    "tags": []
   },
   "outputs": [
    {
     "name": "stdout",
     "output_type": "stream",
     "text": [
      "Running on local URL:  http://127.0.0.1:7860\n",
      "Running on public URL: https://6da52737155e79e550.gradio.live\n",
      "\n",
      "This share link expires in 72 hours. For free permanent hosting and GPU upgrades (NEW!), check out Spaces: https://huggingface.co/spaces\n"
     ]
    },
    {
     "data": {
      "text/html": [
       "<div><iframe src=\"https://6da52737155e79e550.gradio.live\" width=\"100%\" height=\"500\" allow=\"autoplay; camera; microphone; clipboard-read; clipboard-write;\" frameborder=\"0\" allowfullscreen></iframe></div>"
      ],
      "text/plain": [
       "<IPython.core.display.HTML object>"
      ]
     },
     "metadata": {},
     "output_type": "display_data"
    },
    {
     "data": {
      "text/plain": []
     },
     "execution_count": 42,
     "metadata": {},
     "output_type": "execute_result"
    }
   ],
   "source": [
    "interface.launch(share=True)"
   ]
  },
  {
   "cell_type": "code",
   "execution_count": null,
   "metadata": {},
   "outputs": [],
   "source": []
  }
 ],
 "metadata": {
  "kernelspec": {
   "display_name": "Python 3 (ipykernel)",
   "language": "python",
   "name": "python3"
  },
  "language_info": {
   "codemirror_mode": {
    "name": "ipython",
    "version": 3
   },
   "file_extension": ".py",
   "mimetype": "text/x-python",
   "name": "python",
   "nbconvert_exporter": "python",
   "pygments_lexer": "ipython3",
   "version": "3.10.11"
  }
 },
 "nbformat": 4,
 "nbformat_minor": 4
}
